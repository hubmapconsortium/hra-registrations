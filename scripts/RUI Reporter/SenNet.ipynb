{
 "cells": [
  {
   "cell_type": "markdown",
   "id": "09a9afb5",
   "metadata": {},
   "source": [
    "# RUI Reporter - SenNet Analysis\n",
    "\n",
    "This notebook analyzes RUI location registration coverage for SenNet datasets using the SenNet APIs."
   ]
  },
  {
   "cell_type": "markdown",
   "id": "83bc7436",
   "metadata": {},
   "source": [
    "## List of Supported Reference Organs"
   ]
  },
  {
   "cell_type": "code",
   "execution_count": 1,
   "id": "897edce5",
   "metadata": {},
   "outputs": [
    {
     "name": "stderr",
     "output_type": "stream",
     "text": [
      "/Users/dequeue/Library/Python/3.9/lib/python/site-packages/urllib3/__init__.py:35: NotOpenSSLWarning: urllib3 v2 only supports OpenSSL 1.1.1+, currently the 'ssl' module is compiled with 'LibreSSL 2.8.3'. See: https://github.com/urllib3/urllib3/issues/3020\n",
      "  warnings.warn(\n"
     ]
    },
    {
     "name": "stdout",
     "output_type": "stream",
     "text": [
      "73 Supported Reference Organs\n",
      "Extracted 42 unique UBERON IDs\n"
     ]
    }
   ],
   "source": [
    "import requests\n",
    "\n",
    "# HRA API endpoint for reference organs\n",
    "REFERENCE_ORGANS_URL = \"https://apps.humanatlas.io/api/v1/reference-organs\"\n",
    "\n",
    "# Get all reference organs\n",
    "response = requests.get(REFERENCE_ORGANS_URL)\n",
    "organs = response.json()\n",
    "\n",
    "# Extract and normalize the UBERON IDs from the API\n",
    "def iri_to_curie(iri):\n",
    "    if iri and \"obo/UBERON_\" in iri:\n",
    "        return \"UBERON:\" + iri.split(\"_\")[-1]\n",
    "    return iri\n",
    "\n",
    "reference_uberon_ids = {iri_to_curie(organ.get(\"representation_of\")) for organ in organs if organ.get(\"representation_of\")}\n",
    "\n",
    "print(f\"{len(organs)} Supported Reference Organs\")\n",
    "print(f\"Extracted {len(reference_uberon_ids)} unique UBERON IDs\")"
   ]
  },
  {
   "cell_type": "markdown",
   "id": "c419ecd5",
   "metadata": {},
   "source": [
    "## Ratio of Registered/Total for SenNet"
   ]
  },
  {
   "cell_type": "code",
   "execution_count": 2,
   "id": "91f65520",
   "metadata": {},
   "outputs": [
    {
     "name": "stdout",
     "output_type": "stream",
     "text": [
      "Total datasets: 2147\n",
      "Supported datasets: 1504\n",
      "Registered datasets: 1276\n"
     ]
    }
   ],
   "source": [
    "import requests\n",
    "\n",
    "# --- Setup reference organs ---\n",
    "# HRA API endpoint for reference organs\n",
    "REFERENCE_ORGANS_URL = \"https://apps.humanatlas.io/api/v1/reference-organs\"\n",
    "\n",
    "# Get all reference organs\n",
    "response = requests.get(REFERENCE_ORGANS_URL)\n",
    "organs = response.json()\n",
    "\n",
    "# Extract and normalize the UBERON IDs from the API\n",
    "def iri_to_curie(iri):\n",
    "    if iri and \"obo/UBERON_\" in iri:\n",
    "        return \"UBERON:\" + iri.split(\"_\")[-1]\n",
    "    return iri\n",
    "\n",
    "reference_uberon_ids = {iri_to_curie(organ.get(\"representation_of\")) for organ in organs if organ.get(\"representation_of\")}\n",
    "\n",
    "# --- User-provided SenNet API token ---\n",
    "SENNET_TOKEN = \"Agw77KwxnmMBaqOYxo8klN3XMnK7dylVeJgk65M6gyambybaPUlCYWVMEMXMv26jeMnvmWDqk5Wxec8dgJ64Cr9lwd\"\n",
    "\n",
    "# SenNet API endpoints\n",
    "SEARCH_API_URL = \"https://search.api.sennetconsortium.org/search\"\n",
    "headers = {\"Authorization\": f\"Bearer {SENNET_TOKEN}\", \"Content-Type\": \"application/json\"}\n",
    "\n",
    "# Get total count of all datasets\n",
    "total_query = {\n",
    "    \"version\": True,\n",
    "    \"size\": 0,\n",
    "    \"track_total_hits\": True,\n",
    "    \"query\": {\n",
    "        \"bool\": {\n",
    "            \"filter\": [\n",
    "                {\"term\": {\"entity_type.keyword\": \"Dataset\"}},\n",
    "                {\"term\": {\"creation_action.keyword\": \"Create Dataset Activity\"}}\n",
    "            ]\n",
    "        }\n",
    "    }\n",
    "}\n",
    "\n",
    "total_response = requests.post(SEARCH_API_URL, json=total_query, headers=headers)\n",
    "total_datasets_count = total_response.json()['hits']['total']['value'] if total_response.status_code == 200 else 0\n",
    "\n",
    "# Get count of registered datasets (with RUI information)\n",
    "registered_query = {\n",
    "    \"query\": {\n",
    "        \"bool\": {\n",
    "            \"filter\": [\n",
    "                {\n",
    "                    \"terms\": {\n",
    "                        \"entity_type.keyword\": [\n",
    "                            \"Dataset\"\n",
    "                        ]\n",
    "                    }\n",
    "                },\n",
    "                {\n",
    "                    \"terms\": {\n",
    "                        \"creation_action.keyword\": [\n",
    "                            \"Create Dataset Activity\"\n",
    "                        ]\n",
    "                    }\n",
    "                },\n",
    "                {\n",
    "                    \"terms\": {\n",
    "                        \"has_rui_information.keyword\": [\n",
    "                            \"True\"\n",
    "                        ]\n",
    "                    }\n",
    "                }\n",
    "            ]\n",
    "        }\n",
    "    },\n",
    "    \"from\": 0,\n",
    "    \"size\": 0,\n",
    "    \"track_total_hits\": True\n",
    "}\n",
    "\n",
    "registered_response = requests.post(SEARCH_API_URL, json=registered_query, headers=headers)\n",
    "registered_count = registered_response.json()['hits']['total']['value'] if registered_response.status_code == 200 else 0\n",
    "\n",
    "# Get count of supported datasets (with or without RUI information)\n",
    "supported_query = {\n",
    "    \"query\": {\n",
    "        \"bool\": {\n",
    "            \"filter\": [\n",
    "                {\n",
    "                    \"terms\": {\n",
    "                        \"entity_type.keyword\": [\n",
    "                            \"Dataset\"\n",
    "                        ]\n",
    "                    }\n",
    "                },\n",
    "                {\n",
    "                    \"terms\": {\n",
    "                        \"creation_action.keyword\": [\n",
    "                            \"Create Dataset Activity\"\n",
    "                        ]\n",
    "                    }\n",
    "                },\n",
    "                {\n",
    "                    \"terms\": {\n",
    "                        \"has_rui_information.keyword\": [\n",
    "                            \"True\",\n",
    "                            \"False\"\n",
    "                        ]\n",
    "                    }\n",
    "                }\n",
    "            ]\n",
    "        }\n",
    "    },\n",
    "    \"from\": 0,\n",
    "    \"size\": 0,\n",
    "    \"track_total_hits\": True\n",
    "}\n",
    "\n",
    "supported_response = requests.post(SEARCH_API_URL, json=supported_query, headers=headers)\n",
    "supported_count = supported_response.json()['hits']['total']['value'] if supported_response.status_code == 200 else 0\n",
    "\n",
    "print(f\"Total datasets: {total_datasets_count}\")\n",
    "print(f\"Supported datasets: {supported_count}\")\n",
    "print(f\"Registered datasets: {registered_count}\")"
   ]
  }
 ],
 "metadata": {
  "kernelspec": {
   "display_name": "Python 3",
   "language": "python",
   "name": "python3"
  },
  "language_info": {
   "codemirror_mode": {
    "name": "ipython",
    "version": 3
   },
   "file_extension": ".py",
   "mimetype": "text/x-python",
   "name": "python",
   "nbconvert_exporter": "python",
   "pygments_lexer": "ipython3",
   "version": "3.9.6"
  }
 },
 "nbformat": 4,
 "nbformat_minor": 5
}
